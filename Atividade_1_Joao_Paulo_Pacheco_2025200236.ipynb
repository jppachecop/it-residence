{
  "nbformat": 4,
  "nbformat_minor": 0,
  "metadata": {
    "colab": {
      "provenance": [],
      "authorship_tag": "ABX9TyOlzcQZjnpBhZDbdJ99cFeA"
    },
    "kernelspec": {
      "name": "python3",
      "display_name": "Python 3"
    },
    "language_info": {
      "name": "python"
    }
  },
  "cells": [
    {
      "cell_type": "code",
      "source": [],
      "metadata": {
        "id": "XWnto01RwVED"
      },
      "execution_count": null,
      "outputs": []
    },
    {
      "cell_type": "markdown",
      "source": [
        "## Questão 1"
      ],
      "metadata": {
        "id": "I7ir94Ju7gwY"
      }
    },
    {
      "cell_type": "markdown",
      "source": [
        "#### 1) Palíndromos"
      ],
      "metadata": {
        "id": "WOuozwDH_INr"
      }
    },
    {
      "cell_type": "code",
      "source": [
        "import re\n",
        "def is_palindrome(word):\n",
        "  if(word == \"\" or len(word) == 1):\n",
        "    return True\n",
        "\n",
        "  word_without_special_characters = re.sub(r\"[^a-z0-9]\",\"\",word.lower())\n",
        "\n",
        "  return word_without_special_characters == word_without_special_characters[::-1]\n",
        "\n",
        "is_palindrome(\"Was it a car or a cat I saw?\")"
      ],
      "metadata": {
        "colab": {
          "base_uri": "https://localhost:8080/"
        },
        "id": "Bb0vKQTF7tvC",
        "outputId": "854d33c5-6045-46fa-c688-bc46fa15f8e3"
      },
      "execution_count": 33,
      "outputs": [
        {
          "output_type": "execute_result",
          "data": {
            "text/plain": [
              "True"
            ]
          },
          "metadata": {},
          "execution_count": 33
        }
      ]
    },
    {
      "cell_type": "markdown",
      "source": [
        "#### 2) Palavras abecedárias"
      ],
      "metadata": {
        "id": "whXcx07e3XaJ"
      }
    },
    {
      "cell_type": "markdown",
      "source": [
        "### a) Checar se a string é abecedária"
      ],
      "metadata": {
        "id": "3KRCzFbR3lRS"
      }
    },
    {
      "cell_type": "code",
      "source": [
        "def is_abecedarian(word):\n",
        "  word_without_spaces = word.replace(\" \", \"\").lower()\n",
        "  last_letter = \"\"\n",
        "  for letter in word_without_spaces:\n",
        "    if(last_letter != \"\" and letter < last_letter):\n",
        "      return False\n",
        "    last_letter = letter\n",
        "  return True\n",
        "\n",
        "print(is_abecedarian(\"bEet\"))\n",
        "print(is_abecedarian(\"Dog\"))"
      ],
      "metadata": {
        "colab": {
          "base_uri": "https://localhost:8080/"
        },
        "id": "uz4xvWCy3wuH",
        "outputId": "9e4e4d29-8825-4abd-caf2-b876fe842e2b"
      },
      "execution_count": 29,
      "outputs": [
        {
          "output_type": "stream",
          "name": "stdout",
          "text": [
            "True\n",
            "False\n"
          ]
        }
      ]
    },
    {
      "cell_type": "markdown",
      "source": [
        "### b) Remover vogais"
      ],
      "metadata": {
        "id": "mbIAS-xx8Qjt"
      }
    },
    {
      "cell_type": "code",
      "source": [
        "def remove_vowels(word):\n",
        "  vowels = \"aeiouAEIOU\"\n",
        "  word_without_vowels = \"\"\n",
        "\n",
        "  for letter in word:\n",
        "    if letter in vowels:\n",
        "      continue\n",
        "    word_without_vowels += letter\n",
        "\n",
        "  return word_without_vowels\n",
        "\n",
        "remove_vowels(\"goAT!\")"
      ],
      "metadata": {
        "colab": {
          "base_uri": "https://localhost:8080/",
          "height": 35
        },
        "id": "SItJ2djJ8YTX",
        "outputId": "7f8170e7-065b-48dd-b016-b652273ba225"
      },
      "execution_count": 33,
      "outputs": [
        {
          "output_type": "execute_result",
          "data": {
            "text/plain": [
              "'gT!'"
            ],
            "application/vnd.google.colaboratory.intrinsic+json": {
              "type": "string"
            }
          },
          "metadata": {},
          "execution_count": 33
        }
      ]
    },
    {
      "cell_type": "markdown",
      "source": [
        "## Questão 2"
      ],
      "metadata": {
        "id": "g_CJ-9LGMHue"
      }
    },
    {
      "cell_type": "markdown",
      "source": [
        "### 1) Reverso de uma lista"
      ],
      "metadata": {
        "id": "JhxLNHqlMMJE"
      }
    },
    {
      "cell_type": "code",
      "source": [
        "def list_reverse(lst):\n",
        "  if(isinstance(lst, list) == False):\n",
        "    return print(\"O parâmetro fornecido não é uma lista\")\n",
        "\n",
        "  lst.reverse()\n",
        "  return lst\n",
        "\n",
        "list_reverse([1,2,3])"
      ],
      "metadata": {
        "colab": {
          "base_uri": "https://localhost:8080/"
        },
        "id": "ioIciKk7MY27",
        "outputId": "5ac055e5-edb2-424f-ae1d-0c6d312e5b89"
      },
      "execution_count": 10,
      "outputs": [
        {
          "output_type": "execute_result",
          "data": {
            "text/plain": [
              "[3, 2, 1]"
            ]
          },
          "metadata": {},
          "execution_count": 10
        }
      ]
    },
    {
      "cell_type": "markdown",
      "source": [
        "### 2) Verificar ordenação"
      ],
      "metadata": {
        "id": "rZTG8i5mOEep"
      }
    },
    {
      "cell_type": "code",
      "source": [
        "def is_sorted(lst):\n",
        "  for index in range(len(lst) - 1):\n",
        "    current_element = lst[index]\n",
        "    next_element = lst[index + 1]\n",
        "    if(next_element == \"\"):\n",
        "      break\n",
        "    if(current_element > next_element):\n",
        "      return False\n",
        "  return True\n",
        "\n",
        "is_sorted([1,1,3])"
      ],
      "metadata": {
        "colab": {
          "base_uri": "https://localhost:8080/"
        },
        "id": "8P9WgSsGOKb-",
        "outputId": "df0a6f93-7801-4308-9cba-24575006a6c2"
      },
      "execution_count": 59,
      "outputs": [
        {
          "output_type": "execute_result",
          "data": {
            "text/plain": [
              "True"
            ]
          },
          "metadata": {},
          "execution_count": 59
        }
      ]
    },
    {
      "cell_type": "markdown",
      "source": [
        "### 3) Busca binária"
      ],
      "metadata": {
        "id": "z1hMw_Zr1Yx4"
      }
    },
    {
      "cell_type": "code",
      "source": [
        "def binary_search(lst, element):\n",
        "  if(isinstance(lst, list) == False):\n",
        "    return print(\"O parâmetro fornecido não é uma lista\")\n",
        "  if(len(lst) == 0):\n",
        "    return False\n",
        "\n",
        "  for lst_element in lst:\n",
        "    if element == lst_element:\n",
        "      return True\n",
        "  return False\n",
        "\n",
        "binary_search([5,6,7,8,\"1\"], \"1\")\n",
        "binary_search([5,6,7,8,\"1\"], 1)"
      ],
      "metadata": {
        "colab": {
          "base_uri": "https://localhost:8080/"
        },
        "id": "eKBqiWVf1v3d",
        "outputId": "af74ef05-88cc-4830-b6df-14e46f42a5b4"
      },
      "execution_count": 8,
      "outputs": [
        {
          "output_type": "execute_result",
          "data": {
            "text/plain": [
              "False"
            ]
          },
          "metadata": {},
          "execution_count": 8
        }
      ]
    },
    {
      "cell_type": "markdown",
      "source": [
        "## Questão 3"
      ],
      "metadata": {
        "id": "ccNzxtPW__v6"
      }
    },
    {
      "cell_type": "markdown",
      "source": [
        "### 1) Histograma de caracteres"
      ],
      "metadata": {
        "id": "Vt40Hf_xAEqY"
      }
    },
    {
      "cell_type": "code",
      "source": [
        "def char_hist(word):\n",
        "  word_without_spaces = word.replace(\" \", \"\").lower()\n",
        "  word_hist = dict()\n",
        "\n",
        "  for letter in word_without_spaces:\n",
        "    if word_hist.get(letter) == None:\n",
        "      word_hist[letter] = 1\n",
        "      continue\n",
        "    word_hist[letter] += 1\n",
        "  return word_hist\n",
        "\n",
        "char_hist(\"Ggot\")"
      ],
      "metadata": {
        "colab": {
          "base_uri": "https://localhost:8080/"
        },
        "id": "EArwl-c1AKeW",
        "outputId": "10fda85f-7ef9-463e-8e9d-045ed9719fc1"
      },
      "execution_count": 40,
      "outputs": [
        {
          "output_type": "execute_result",
          "data": {
            "text/plain": [
              "{'g': 2, 'o': 1, 't': 1}"
            ]
          },
          "metadata": {},
          "execution_count": 40
        }
      ]
    },
    {
      "cell_type": "markdown",
      "source": [
        "### 2) Histograma de bigramas"
      ],
      "metadata": {
        "id": "oChX2C8JC0Ct"
      }
    },
    {
      "cell_type": "code",
      "source": [
        "def bigram_hist(word):\n",
        "  word_without_spaces = word.replace(\" \", \"\")\n",
        "  word_bigram_hist = dict()\n",
        "  current_letter = \"\"\n",
        "  last_letter = \"\"\n",
        "\n",
        "  for index in range(len(word_without_spaces)):\n",
        "    if index == 0:\n",
        "      continue\n",
        "    current_letter = word_without_spaces[index]\n",
        "    last_letter = word_without_spaces[index - 1]\n",
        "    bigram = last_letter + current_letter\n",
        "    if word_bigram_hist.get(bigram) == None:\n",
        "      word_bigram_hist[bigram] = 1\n",
        "      continue\n",
        "    word_bigram_hist[bigram] += 1\n",
        "\n",
        "  return word_bigram_hist\n",
        "\n",
        "bigram_hist(\"geeksforgeeks\")"
      ],
      "metadata": {
        "colab": {
          "base_uri": "https://localhost:8080/"
        },
        "id": "y8RxIeQ-C3v6",
        "outputId": "55fcaee1-0224-4408-cb74-711858ae39ff"
      },
      "execution_count": 42,
      "outputs": [
        {
          "output_type": "execute_result",
          "data": {
            "text/plain": [
              "{'ge': 2, 'ee': 2, 'ek': 2, 'ks': 2, 'sf': 1, 'fo': 1, 'or': 1, 'rg': 1}"
            ]
          },
          "metadata": {},
          "execution_count": 42
        }
      ]
    },
    {
      "cell_type": "markdown",
      "source": [
        "## Questão 4"
      ],
      "metadata": {
        "id": "ghr8EBjyHQj9"
      }
    },
    {
      "cell_type": "markdown",
      "source": [
        "### 1) Multiplicação escalar"
      ],
      "metadata": {
        "id": "aDVa3_8HHX8g"
      }
    },
    {
      "cell_type": "code",
      "source": [
        "def vec_scalar_mult(tul, number):\n",
        "    if(isinstance(tul, tuple) == False):\n",
        "      return Exception(\"O parâmetro fornecido não é uma tupla\")\n",
        "    if(isinstance(number, int)) == False:\n",
        "      return Exception(\"O parâmetro fornecido não é um número inteiro\")\n",
        "\n",
        "    return tuple([number * e for e in tul])\n",
        "\n",
        "vec_scalar_mult((1,2,3), 10)"
      ],
      "metadata": {
        "colab": {
          "base_uri": "https://localhost:8080/"
        },
        "id": "ztZmhFRvHcvy",
        "outputId": "e304731b-2a5b-4218-b15d-1b43364cc640"
      },
      "execution_count": 46,
      "outputs": [
        {
          "output_type": "execute_result",
          "data": {
            "text/plain": [
              "(-10, -20, -30)"
            ]
          },
          "metadata": {},
          "execution_count": 46
        }
      ]
    },
    {
      "cell_type": "markdown",
      "source": [
        "### 2) Produto interno:"
      ],
      "metadata": {
        "id": "_x7zgETmNPmB"
      }
    },
    {
      "cell_type": "code",
      "source": [
        "def vec_inner_product(tul1, tul2):\n",
        "  if len(tul1) != len(tul2):\n",
        "    raise Exception(\"Os vetores não possuem o mesmo tamanho\")\n",
        "\n",
        "  inner_product = 0\n",
        "\n",
        "  for index in range(len(tul1)):\n",
        "    inner_product += tul1[index] * tul2[index]\n",
        "\n",
        "  return inner_product\n",
        "\n",
        "vec_inner_product((1,2,3),(1,2,3))"
      ],
      "metadata": {
        "colab": {
          "base_uri": "https://localhost:8080/"
        },
        "id": "37PBQFPhNTa1",
        "outputId": "565302c8-9ea6-4e43-853e-bfa53bd5af78"
      },
      "execution_count": 48,
      "outputs": [
        {
          "output_type": "execute_result",
          "data": {
            "text/plain": [
              "14"
            ]
          },
          "metadata": {},
          "execution_count": 48
        }
      ]
    },
    {
      "cell_type": "markdown",
      "source": [
        "### 3) Matriz válida:"
      ],
      "metadata": {
        "id": "Tkc3rXu9PEFD"
      }
    },
    {
      "cell_type": "code",
      "source": [
        "def check_valid_mx(mx):\n",
        "  if isinstance(mx, tuple) == False or all(isinstance(row,tuple) for row in mx) == False:\n",
        "    print(\"A matrix não é uma tupla ou uma tupla de tuplas\")\n",
        "    return False\n",
        "\n",
        "  if len(mx) == 0 or all(len(row) != len(mx[0]) for row in mx) == True:\n",
        "    print(\"A matrix não possui tuplas de mesmo tamanho\")\n",
        "    return False\n",
        "\n",
        "  return True\n",
        "\n",
        "check_valid_mx(((1,1),(1,1),(1,1)))"
      ],
      "metadata": {
        "colab": {
          "base_uri": "https://localhost:8080/"
        },
        "id": "nVE7jOTlPJSY",
        "outputId": "70d95222-5a30-41c3-c570-8263794142e4"
      },
      "execution_count": 50,
      "outputs": [
        {
          "output_type": "execute_result",
          "data": {
            "text/plain": [
              "True"
            ]
          },
          "metadata": {},
          "execution_count": 50
        }
      ]
    },
    {
      "cell_type": "markdown",
      "source": [
        "### 4) Multiplicação válida:"
      ],
      "metadata": {
        "id": "ayfSEOnrTOM5"
      }
    },
    {
      "cell_type": "code",
      "source": [
        "def mx_vec_mult(mx, vec):\n",
        "  if len(mx[0]) != len(vec):\n",
        "    raise Exception(\"A quantidade de colunas da matriz deve ser a mesma que a quantidade de elementos do vetor\")\n",
        "\n",
        "  arr = []\n",
        "  sum = 0\n",
        "\n",
        "  for row in mx:\n",
        "    for row_index in row:\n",
        "      sum += row[row_index] * vec[row_index]\n",
        "    arr.append(sum)\n",
        "    sum = 0\n",
        "  return tuple(arr)\n",
        "\n",
        "mx_vec_mult(((1,-1,2),(0,-3,1)), (2,1,0))"
      ],
      "metadata": {
        "colab": {
          "base_uri": "https://localhost:8080/"
        },
        "id": "6nZIkoScTVGe",
        "outputId": "0ff09a67-813b-42ee-dd7f-47b2f2adc561"
      },
      "execution_count": 59,
      "outputs": [
        {
          "output_type": "execute_result",
          "data": {
            "text/plain": [
              "(-1, -3)"
            ]
          },
          "metadata": {},
          "execution_count": 59
        }
      ]
    },
    {
      "cell_type": "markdown",
      "source": [
        "# Questão 5"
      ],
      "metadata": {
        "id": "mnGvV7fpbbha"
      }
    },
    {
      "cell_type": "markdown",
      "source": [
        "### 1) Vetores esparsos:"
      ],
      "metadata": {
        "id": "kCejRgNWbqb_"
      }
    },
    {
      "cell_type": "code",
      "source": [
        "def is_valid_sparse_vector(dic):\n",
        "  if isinstance(dic, dict):\n",
        "    return False\n",
        "\n",
        "  dic_keys = dic.keys()\n",
        "  if(any(isinstance(key,int) == False or key < 0 for key in dic_keys)):\n",
        "    return False\n",
        "\n",
        "  dic_values = dic.values()\n",
        "  if (any(isinstance(value,(int, float)) == False for value in dic_values)):\n",
        "    return False\n",
        "\n",
        "  return True\n",
        "\n",
        "is_valid_sparse_vector({5: 44, 6: 4.2})"
      ],
      "metadata": {
        "colab": {
          "base_uri": "https://localhost:8080/"
        },
        "id": "K4cSRLythNxH",
        "outputId": "c9c2501c-d963-4823-ce7e-c226d5ec6be0"
      },
      "execution_count": 63,
      "outputs": [
        {
          "output_type": "execute_result",
          "data": {
            "text/plain": [
              "False"
            ]
          },
          "metadata": {},
          "execution_count": 63
        }
      ]
    },
    {
      "cell_type": "markdown",
      "source": [
        "### 2) Produto Interno Esparso"
      ],
      "metadata": {
        "id": "QRFULRGrrQE3"
      }
    },
    {
      "cell_type": "code",
      "source": [
        "def sparse_inner_product(dic1, dic2):\n",
        "  dic1_keys = dic1.keys()\n",
        "  dic2_keys = dic2.keys()\n",
        "  soma = 0\n",
        "\n",
        "  for key in dic1_keys & dic2_keys:\n",
        "    soma += dic1[key] * dic2[key]\n",
        "  return soma\n",
        "\n",
        "sparse_inner_product({0:3,2:4,5:-2}, {0:1,2:-1,4:5})"
      ],
      "metadata": {
        "colab": {
          "base_uri": "https://localhost:8080/"
        },
        "id": "IoKDHkP9rTxU",
        "outputId": "3806167b-eb79-4d8f-9d23-1b180be09581"
      },
      "execution_count": 80,
      "outputs": [
        {
          "output_type": "execute_result",
          "data": {
            "text/plain": [
              "-1"
            ]
          },
          "metadata": {},
          "execution_count": 80
        }
      ]
    }
  ]
}