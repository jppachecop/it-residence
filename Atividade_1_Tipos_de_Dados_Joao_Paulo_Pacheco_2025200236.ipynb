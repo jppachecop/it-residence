{
  "nbformat": 4,
  "nbformat_minor": 0,
  "metadata": {
    "colab": {
      "provenance": [],
      "authorship_tag": "ABX9TyPResdO4JhdG3gWRBB570WW"
    },
    "kernelspec": {
      "name": "python3",
      "display_name": "Python 3"
    },
    "language_info": {
      "name": "python"
    }
  },
  "cells": [
    {
      "cell_type": "markdown",
      "source": [
        "# Questão 1"
      ],
      "metadata": {
        "id": "_7WXGB-5Gcof"
      }
    },
    {
      "cell_type": "markdown",
      "source": [
        "### 1) Função bird_pad"
      ],
      "metadata": {
        "id": "N0G53-5JGf4u"
      }
    },
    {
      "cell_type": "code",
      "source": [
        "def bird_pad(middle_word):\n",
        "  predicate_and_suffix = 'bird'\n",
        "  return predicate_and_suffix + middle_word + predicate_and_suffix\n",
        "\n",
        "print(bird_pad(\"goat\"))\n",
        "print(bird_pad(\"_\"))"
      ],
      "metadata": {
        "colab": {
          "base_uri": "https://localhost:8080/"
        },
        "id": "q5ndYFyfGlSF",
        "outputId": "f28b9781-4d27-43b5-bda8-9bf7349a67f8"
      },
      "execution_count": null,
      "outputs": [
        {
          "output_type": "stream",
          "name": "stdout",
          "text": [
            "birdgoatbird\n",
            "bird_bird\n"
          ]
        }
      ]
    },
    {
      "cell_type": "markdown",
      "source": [
        "### 2) Função print_n"
      ],
      "metadata": {
        "id": "dfie2XreGy0B"
      }
    },
    {
      "cell_type": "code",
      "source": [
        "def print_n(str, num):\n",
        "  if(num < 0):\n",
        "    raise Exception(\"O número deve ser igual ou maior que 0\")\n",
        "  if(num == 0):\n",
        "    return\n",
        "\n",
        "  for index in range(num):\n",
        "    print(str, end=\"\\n\")\n",
        "\n",
        "print_n(\"test\", 3)"
      ],
      "metadata": {
        "colab": {
          "base_uri": "https://localhost:8080/"
        },
        "id": "fm3DygIzIVB-",
        "outputId": "ae838886-dcd0-4a88-8519-0e2ab651af15"
      },
      "execution_count": null,
      "outputs": [
        {
          "output_type": "stream",
          "name": "stdout",
          "text": [
            "test\n",
            "test\n",
            "test\n"
          ]
        }
      ]
    },
    {
      "cell_type": "markdown",
      "source": [
        "# Questão 2"
      ],
      "metadata": {
        "id": "KIQfBS2ANrhS"
      }
    },
    {
      "cell_type": "markdown",
      "source": [
        "### 1) Algoritmo de Euclides"
      ],
      "metadata": {
        "id": "2XxqZ_CeNuOz"
      }
    },
    {
      "cell_type": "code",
      "source": [
        "def gcd(num1, num2):\n",
        "  greatest_number = max(num1,num2)\n",
        "  smaller_number = min(num1,num2)\n",
        "\n",
        "  quotient = greatest_number / smaller_number\n",
        "  rk = greatest_number % smaller_number\n",
        "\n",
        "  while rk != 0:\n",
        "    greatest_number = smaller_number\n",
        "    smaller_number = rk\n",
        "\n",
        "    quotient = greatest_number / smaller_number\n",
        "    rk = greatest_number % smaller_number\n",
        "\n",
        "  return abs(smaller_number)\n",
        "\n",
        "\n",
        "gcd(1250,500)"
      ],
      "metadata": {
        "colab": {
          "base_uri": "https://localhost:8080/"
        },
        "id": "_2hHfjAUN0Xy",
        "outputId": "113e166f-e452-44a5-87c7-4e2ac6938a54"
      },
      "execution_count": null,
      "outputs": [
        {
          "output_type": "execute_result",
          "data": {
            "text/plain": [
              "250"
            ]
          },
          "metadata": {},
          "execution_count": 23
        }
      ]
    },
    {
      "cell_type": "markdown",
      "source": [
        "### 2) Pares de números"
      ],
      "metadata": {
        "id": "xXo1b6lrY_Lx"
      }
    },
    {
      "cell_type": "markdown",
      "source": [
        "a) 1200,300"
      ],
      "metadata": {
        "id": "nwFFLf_MZG8D"
      }
    },
    {
      "cell_type": "code",
      "source": [
        "gcd(1200,300)"
      ],
      "metadata": {
        "colab": {
          "base_uri": "https://localhost:8080/"
        },
        "id": "bbG3drcfZIxQ",
        "outputId": "6eaf5a6c-c6ee-4a33-ab2f-5ff63dd26da9"
      },
      "execution_count": null,
      "outputs": [
        {
          "output_type": "execute_result",
          "data": {
            "text/plain": [
              "300"
            ]
          },
          "metadata": {},
          "execution_count": 6
        }
      ]
    },
    {
      "cell_type": "markdown",
      "source": [
        "b) 5040,60"
      ],
      "metadata": {
        "id": "8mhYSFODZLXp"
      }
    },
    {
      "cell_type": "code",
      "source": [
        "gcd(5040,60)"
      ],
      "metadata": {
        "colab": {
          "base_uri": "https://localhost:8080/"
        },
        "id": "StPwRS3hZN3H",
        "outputId": "36d7e585-8c0d-4f17-9e7b-9885c41c6caf"
      },
      "execution_count": null,
      "outputs": [
        {
          "output_type": "execute_result",
          "data": {
            "text/plain": [
              "60"
            ]
          },
          "metadata": {},
          "execution_count": 7
        }
      ]
    },
    {
      "cell_type": "markdown",
      "source": [
        "c) 29,31"
      ],
      "metadata": {
        "id": "ZGpvoxQiZY5s"
      }
    },
    {
      "cell_type": "code",
      "source": [
        "gcd(29,31)"
      ],
      "metadata": {
        "colab": {
          "base_uri": "https://localhost:8080/"
        },
        "id": "X6Q2colLZYSJ",
        "outputId": "92668ecd-4523-4472-c8f4-0242db937f9b"
      },
      "execution_count": null,
      "outputs": [
        {
          "output_type": "execute_result",
          "data": {
            "text/plain": [
              "1"
            ]
          },
          "metadata": {},
          "execution_count": 8
        }
      ]
    },
    {
      "cell_type": "markdown",
      "source": [
        "d) 2023,2024"
      ],
      "metadata": {
        "id": "mAccA10NZpx5"
      }
    },
    {
      "cell_type": "code",
      "source": [
        "gcd(2023,2024)"
      ],
      "metadata": {
        "colab": {
          "base_uri": "https://localhost:8080/"
        },
        "id": "vDrnKSI_ZsEB",
        "outputId": "33460534-5929-4048-9f02-91a8728c0f0e"
      },
      "execution_count": null,
      "outputs": [
        {
          "output_type": "execute_result",
          "data": {
            "text/plain": [
              "1"
            ]
          },
          "metadata": {},
          "execution_count": 9
        }
      ]
    },
    {
      "cell_type": "markdown",
      "source": [
        "### 3) O que acontece se um ou ambos os argumentos forem negativos? Esse comportamento faz sentido? Execute gcd com números negativos e escreva uma ou duas frases discutindo o que observou.\n"
      ],
      "metadata": {
        "id": "l8lhycaRZ0GM"
      }
    },
    {
      "cell_type": "code",
      "source": [
        "# um argumento negativo\n",
        "print(gcd(-8, 2))\n",
        "# ambos argumentos negativos\n",
        "print(gcd(-6,-12))"
      ],
      "metadata": {
        "colab": {
          "base_uri": "https://localhost:8080/"
        },
        "id": "4Zsozau-Z_6w",
        "outputId": "0ab75951-e5e9-479b-d1aa-5a83528efa38"
      },
      "execution_count": null,
      "outputs": [
        {
          "output_type": "stream",
          "name": "stdout",
          "text": [
            "2\n",
            "6\n"
          ]
        }
      ]
    },
    {
      "cell_type": "markdown",
      "source": [
        "Os resultados obtidos com os argumentos negativos fazem sentido, pois são os maiores divisores comuns entre os números fornecidos"
      ],
      "metadata": {
        "id": "87irOig7t-M2"
      }
    },
    {
      "cell_type": "markdown",
      "source": [
        "# Questão 3"
      ],
      "metadata": {
        "id": "0Y6HUmMEuNzG"
      }
    },
    {
      "cell_type": "markdown",
      "source": [
        "### 1) Bernoulli"
      ],
      "metadata": {
        "id": "BMWRvY4DuU60"
      }
    },
    {
      "cell_type": "code",
      "source": [
        "from sympy import *\n",
        "\n",
        "def euler_limit(n):\n",
        "  expression = pow((1 + 1/n),n)\n",
        "  return limit(expression,n,float('inf'))\n",
        "\n",
        "euler_limit(2)"
      ],
      "metadata": {
        "colab": {
          "base_uri": "https://localhost:8080/",
          "height": 37
        },
        "id": "hXQvfcT5udhJ",
        "outputId": "00968f46-a3de-4f42-84bc-583ef71d6296"
      },
      "execution_count": null,
      "outputs": [
        {
          "output_type": "execute_result",
          "data": {
            "text/plain": [
              "2.25000000000000"
            ],
            "text/latex": "$\\displaystyle 2.25$"
          },
          "metadata": {},
          "execution_count": 25
        }
      ]
    },
    {
      "cell_type": "markdown",
      "source": [
        "### 2) Fatorial"
      ],
      "metadata": {
        "id": "x-eVHffPwqOw"
      }
    },
    {
      "cell_type": "code",
      "source": [
        "import math\n",
        "\n",
        "def factorial(n):\n",
        "  if n == 0 or n == 1:\n",
        "    return 1\n",
        "  return n * factorial(n-1)\n",
        "\n",
        "factorial(4)"
      ],
      "metadata": {
        "colab": {
          "base_uri": "https://localhost:8080/"
        },
        "id": "A1UalmRfwtbI",
        "outputId": "b34a9701-6444-427f-d157-08d9b3abf6c9"
      },
      "execution_count": null,
      "outputs": [
        {
          "output_type": "execute_result",
          "data": {
            "text/plain": [
              "24"
            ]
          },
          "metadata": {},
          "execution_count": 29
        }
      ]
    },
    {
      "cell_type": "markdown",
      "source": [
        "### 3) Soma Infinita"
      ],
      "metadata": {
        "id": "0TwuMO6uyMgl"
      }
    },
    {
      "cell_type": "code",
      "source": [
        "def euler_infinite_sum(n):\n",
        "  k = 0\n",
        "  total = 0\n",
        "  while k < n:\n",
        "    total += 1/factorial(k)\n",
        "    k += 1\n",
        "  return total\n",
        "\n",
        "euler_infinite_sum(67)"
      ],
      "metadata": {
        "colab": {
          "base_uri": "https://localhost:8080/"
        },
        "id": "H5f3zLzvx3Tb",
        "outputId": "d3023558-45ec-4dfe-8929-092be1234625"
      },
      "execution_count": null,
      "outputs": [
        {
          "output_type": "execute_result",
          "data": {
            "text/plain": [
              "2.7182818284590455"
            ]
          },
          "metadata": {},
          "execution_count": 46
        }
      ]
    },
    {
      "cell_type": "markdown",
      "source": [
        "### 4) Aproximação"
      ],
      "metadata": {
        "id": "JR3T_BOt2Bzv"
      }
    },
    {
      "cell_type": "code",
      "source": [
        "import math\n",
        "\n",
        "def euler_approx(t):\n",
        "  euler = math.e\n",
        "  n = 1\n",
        "  euler_sum = euler_infinite_sum(n)\n",
        "\n",
        "  while abs(euler_sum - euler) > t:\n",
        "    n += 1\n",
        "    euler_sum += 1 / factorial(n - 1)\n",
        "  return n\n",
        "\n",
        "euler_approx(0.01)"
      ],
      "metadata": {
        "colab": {
          "base_uri": "https://localhost:8080/"
        },
        "id": "tXZjj8iT2J5M",
        "outputId": "98c62d1e-b51b-4ca7-ad8e-8db371fe114f"
      },
      "execution_count": null,
      "outputs": [
        {
          "output_type": "execute_result",
          "data": {
            "text/plain": [
              "5"
            ]
          },
          "metadata": {},
          "execution_count": 42
        }
      ]
    },
    {
      "cell_type": "markdown",
      "source": [
        "### 5) Funções de print de euler"
      ],
      "metadata": {
        "id": "0LZECL8G674Y"
      }
    },
    {
      "cell_type": "code",
      "source": [
        "from tabulate import tabulate\n",
        "\n",
        "def print_euler_sum_table(n):\n",
        "  k = 0\n",
        "  total = 0\n",
        "  lst = []\n",
        "  while k < n:\n",
        "    total += 1/factorial(k)\n",
        "    lst.append([k,total])\n",
        "    k += 1\n",
        "\n",
        "  print(tabulate(lst,\n",
        "               headers=['Time', 'Value']))\n",
        "\n",
        "def print_euler_lim_table(n):\n",
        "  lst = []\n",
        "  for k in range(1,n):\n",
        "    total = pow(1 + 1/k, k)\n",
        "    lst.append([k,total])\n",
        "  print(tabulate(lst,\n",
        "               headers=['Time', 'Value']))\n",
        "\n",
        "\n",
        "print(\"Infinite Sum\")\n",
        "print_euler_sum_table(50)\n",
        "\n",
        "print(\"==============\")\n",
        "print(\"Limit\")\n",
        "print_euler_lim_table(50)"
      ],
      "metadata": {
        "colab": {
          "base_uri": "https://localhost:8080/"
        },
        "id": "sg83Kz-I7gaj",
        "outputId": "539caf82-b529-44db-899b-68c90f4c2294"
      },
      "execution_count": null,
      "outputs": [
        {
          "output_type": "stream",
          "name": "stdout",
          "text": [
            "Infinite Sum\n",
            "  Time    Value\n",
            "------  -------\n",
            "     0  1\n",
            "     1  2\n",
            "     2  2.5\n",
            "     3  2.66667\n",
            "     4  2.70833\n",
            "     5  2.71667\n",
            "     6  2.71806\n",
            "     7  2.71825\n",
            "     8  2.71828\n",
            "     9  2.71828\n",
            "    10  2.71828\n",
            "    11  2.71828\n",
            "    12  2.71828\n",
            "    13  2.71828\n",
            "    14  2.71828\n",
            "    15  2.71828\n",
            "    16  2.71828\n",
            "    17  2.71828\n",
            "    18  2.71828\n",
            "    19  2.71828\n",
            "    20  2.71828\n",
            "    21  2.71828\n",
            "    22  2.71828\n",
            "    23  2.71828\n",
            "    24  2.71828\n",
            "    25  2.71828\n",
            "    26  2.71828\n",
            "    27  2.71828\n",
            "    28  2.71828\n",
            "    29  2.71828\n",
            "    30  2.71828\n",
            "    31  2.71828\n",
            "    32  2.71828\n",
            "    33  2.71828\n",
            "    34  2.71828\n",
            "    35  2.71828\n",
            "    36  2.71828\n",
            "    37  2.71828\n",
            "    38  2.71828\n",
            "    39  2.71828\n",
            "    40  2.71828\n",
            "    41  2.71828\n",
            "    42  2.71828\n",
            "    43  2.71828\n",
            "    44  2.71828\n",
            "    45  2.71828\n",
            "    46  2.71828\n",
            "    47  2.71828\n",
            "    48  2.71828\n",
            "    49  2.71828\n",
            "==============\n",
            "Limit\n",
            "  Time    Value\n",
            "------  -------\n",
            "     1  2\n",
            "     2  2.25\n",
            "     3  2.37037\n",
            "     4  2.44141\n",
            "     5  2.48832\n",
            "     6  2.52163\n",
            "     7  2.5465\n",
            "     8  2.56578\n",
            "     9  2.58117\n",
            "    10  2.59374\n",
            "    11  2.6042\n",
            "    12  2.61304\n",
            "    13  2.6206\n",
            "    14  2.62715\n",
            "    15  2.63288\n",
            "    16  2.63793\n",
            "    17  2.64241\n",
            "    18  2.64643\n",
            "    19  2.65003\n",
            "    20  2.6533\n",
            "    21  2.65626\n",
            "    22  2.65897\n",
            "    23  2.66145\n",
            "    24  2.66373\n",
            "    25  2.66584\n",
            "    26  2.66778\n",
            "    27  2.66959\n",
            "    28  2.67128\n",
            "    29  2.67285\n",
            "    30  2.67432\n",
            "    31  2.6757\n",
            "    32  2.67699\n",
            "    33  2.67821\n",
            "    34  2.67936\n",
            "    35  2.68044\n",
            "    36  2.68146\n",
            "    37  2.68244\n",
            "    38  2.68336\n",
            "    39  2.68423\n",
            "    40  2.68506\n",
            "    41  2.68586\n",
            "    42  2.68661\n",
            "    43  2.68733\n",
            "    44  2.68802\n",
            "    45  2.68868\n",
            "    46  2.68931\n",
            "    47  2.68992\n",
            "    48  2.6905\n",
            "    49  2.69105\n"
          ]
        }
      ]
    },
    {
      "cell_type": "markdown",
      "source": [
        "### 6) Conclusões sobre as aproximações"
      ],
      "metadata": {
        "id": "Kq2JT2TGCu7A"
      }
    },
    {
      "cell_type": "markdown",
      "source": [
        "A sequencia que converge mais rápido para e é a print_euler_sum_table"
      ],
      "metadata": {
        "id": "jn86fKptCtNW"
      }
    },
    {
      "cell_type": "markdown",
      "source": [
        "# Questão 4"
      ],
      "metadata": {
        "id": "vZp7a22pC8vF"
      }
    },
    {
      "cell_type": "markdown",
      "source": [
        "### is_power_of\n",
        "\n"
      ],
      "metadata": {
        "id": "HtrJ08qJDL0C"
      }
    },
    {
      "cell_type": "code",
      "source": [
        "def is_power_of_2(n):\n",
        "  if n == 0 or n < 1:\n",
        "    return False\n",
        "  if n == 1:\n",
        "    return True\n",
        "  return is_power_of_2(n / 2)\n",
        "\n",
        "is_power_of_2(28)"
      ],
      "metadata": {
        "colab": {
          "base_uri": "https://localhost:8080/"
        },
        "id": "jTu5iBbYDQ1c",
        "outputId": "f8481ec5-b84e-42df-9048-787f236de5e7"
      },
      "execution_count": null,
      "outputs": [
        {
          "output_type": "execute_result",
          "data": {
            "text/plain": [
              "False"
            ]
          },
          "metadata": {},
          "execution_count": 8
        }
      ]
    },
    {
      "cell_type": "markdown",
      "source": [
        "### is_power generalizado"
      ],
      "metadata": {
        "id": "pibaoLkkVgg4"
      }
    },
    {
      "cell_type": "code",
      "source": [
        "def is_power(b,n):\n",
        "  if n == 0 or n < 1:\n",
        "    return False\n",
        "  if n == 1:\n",
        "    return True\n",
        "  return is_power(b,n / b)\n",
        "\n",
        "is_power(5,50)"
      ],
      "metadata": {
        "colab": {
          "base_uri": "https://localhost:8080/"
        },
        "id": "SRQe063WVjx1",
        "outputId": "5bb5e686-fefd-43a4-e9de-3dfc4f32421b"
      },
      "execution_count": null,
      "outputs": [
        {
          "output_type": "execute_result",
          "data": {
            "text/plain": [
              "False"
            ]
          },
          "metadata": {},
          "execution_count": 15
        }
      ]
    }
  ]
}