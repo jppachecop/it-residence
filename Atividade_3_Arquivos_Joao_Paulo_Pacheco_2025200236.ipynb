{
  "nbformat": 4,
  "nbformat_minor": 0,
  "metadata": {
    "colab": {
      "provenance": [],
      "authorship_tag": "ABX9TyNV46GNlioam2R6URdQl9fJ"
    },
    "kernelspec": {
      "name": "python3",
      "display_name": "Python 3"
    },
    "language_info": {
      "name": "python"
    }
  },
  "cells": [
    {
      "cell_type": "markdown",
      "source": [
        "# Questão 1\n"
      ],
      "metadata": {
        "id": "rvWKOazyDNIh"
      }
    },
    {
      "cell_type": "code",
      "source": [
        "import random\n",
        "import string\n",
        "import time\n",
        "\n",
        "def reverse_string(word):\n",
        "  return word[::-1]\n",
        "\n",
        "def generate_test_file(filename, nlines, nchars):\n",
        "  f = open(filename,\"w\")\n",
        "  for _ in range(nlines):\n",
        "    random_string = ''.join(random.choices(string.ascii_lowercase + string.digits, k=nchars))\n",
        "    f.write(random_string + \"\\n\")\n",
        "  return filename\n",
        "\n",
        "# Opção 1\n",
        "def revlines_storage(infile,outfile):\n",
        "  if isinstance(infile, str) == False or isinstance(outfile, str) == False:\n",
        "    raise TypeError(\"Os parâmetros devem ser strings.\")\n",
        "\n",
        "  f = open(infile, \"r\")\n",
        "  f2 = open(outfile, \"w+\")\n",
        "\n",
        "  lines_list = f.readlines()\n",
        "  reversed_lines_list = []\n",
        "\n",
        "  for line in lines_list:\n",
        "    f2.write(reverse_string(line.strip()) + \"\\n\")\n",
        "  return\n",
        "\n",
        "# Opção 2\n",
        "def revlines_direct(infile,outfile):\n",
        "  if isinstance(infile, str) == False or isinstance(outfile, str) == False:\n",
        "    raise TypeError(\"Os parâmetros devem ser strings.\")\n",
        "\n",
        "  f = open(infile, \"r\")\n",
        "  f2 = open(outfile, \"w+\")\n",
        "\n",
        "  for line in f:\n",
        "    reversed_line = reverse_string(line.strip())\n",
        "    f2.write(reversed_line + \"\\n\")\n",
        "  return\n",
        "\n",
        "\n",
        "def time_trial(nlines, nchars):\n",
        "  filename = generate_test_file(\"test1.txt\",nlines,nchars)\n",
        "\n",
        "  start_revlines_storage_time = time.time()\n",
        "  revlines_storage(filename, \"output.txt\")\n",
        "  end_revlines_storage_time = time.time()\n",
        "  t1 = end_revlines_storage_time - start_revlines_storage_time\n",
        "\n",
        "  filename = generate_test_file(\"test2.txt\",nlines,nchars)\n",
        "\n",
        "  start_revlines_direct_time = time.time()\n",
        "  revlines_direct(filename, \"output-v2.txt\")\n",
        "  end_revlines_direct_time = time.time()\n",
        "  t2 = end_revlines_direct_time - start_revlines_direct_time\n",
        "\n",
        "  return (t1, t2)\n",
        "\n",
        "print(time_trial(100, 20))\n",
        "print(time_trial(5000, 20))\n",
        "print(time_trial(100000, 20))\n",
        "print(time_trial(500000, 20))"
      ],
      "metadata": {
        "colab": {
          "base_uri": "https://localhost:8080/"
        },
        "id": "JxOS_wVwDVwa",
        "outputId": "4408845c-9a3e-4c99-980e-f3b2308b8e04"
      },
      "execution_count": 24,
      "outputs": [
        {
          "output_type": "stream",
          "name": "stdout",
          "text": [
            "(0.001146554946899414, 0.0007205009460449219)\n",
            "(0.003242969512939453, 0.003278970718383789)\n",
            "(0.06166815757751465, 0.05441617965698242)\n",
            "(0.3625345230102539, 0.2795238494873047)\n"
          ]
        }
      ]
    },
    {
      "cell_type": "markdown",
      "source": [
        "A diferença entre os tempos de execução é explicada pela quantidade de iterações que cada um dos métodos realiza. Enquanto no revlines_storage há duas iterações para escrever as linhas no arquivo, carregando todas as linhas em memória antes de processá-las, no revlines_direct há apenas uma iteração para ler as linhas de um arquivo e escrever as linhas invertidas, o que reduz o consumo de memória."
      ],
      "metadata": {
        "id": "A1yh1887JmoL"
      }
    },
    {
      "cell_type": "markdown",
      "source": [
        "# Questão 2"
      ],
      "metadata": {
        "id": "MU1VEqhlK2qG"
      }
    },
    {
      "cell_type": "code",
      "source": [
        "import string\n",
        "import re\n",
        "\n",
        "def generate_test_file(filename):\n",
        "  f = open(filename,\"w\")\n",
        "  f.write(\"Half a league, half a league,-\" + \"\\n\" + \"Half a league onward,\" + \"\\n\" + \"All in the valley of Death\" + \"\\n\" + \"Rode the six hundred.\")\n",
        "\n",
        "  return filename\n",
        "\n",
        "\n",
        "def count_bigrams_in_file(filename):\n",
        "  f = open(filename, \"r\")\n",
        "\n",
        "  lines = [line.rstrip().lower() for line in f]\n",
        "\n",
        "  text = \" \".join(lines)\n",
        "\n",
        "  translator = str.maketrans(string.punctuation, ' ' * len(string.punctuation))\n",
        "  translated = text.translate(translator)\n",
        "\n",
        "  normalized_translated = \" \".join(translated.split())\n",
        "\n",
        "  words = normalized_translated.split()\n",
        "\n",
        "  bigrams = [(words[i], words[i+1]) for i in range(len(words) - 1)]\n",
        "\n",
        "  bigrams_dict_quantity = dict()\n",
        "\n",
        "  for bigram in bigrams:\n",
        "    if bigrams_dict_quantity.get(bigram) == None:\n",
        "      bigrams_dict_quantity[bigram] = 1\n",
        "      continue\n",
        "    bigrams_dict_quantity[bigram] += 1\n",
        "\n",
        "  return bigrams_dict_quantity\n",
        "\n",
        "filename = generate_test_file(\"bigrams.txt\")\n",
        "\n",
        "count_bigrams_in_file(filename)"
      ],
      "metadata": {
        "colab": {
          "base_uri": "https://localhost:8080/"
        },
        "id": "yixpFU8IK5Os",
        "outputId": "6e981112-e942-45c9-ba6b-5306ea8e1498"
      },
      "execution_count": 5,
      "outputs": [
        {
          "output_type": "execute_result",
          "data": {
            "text/plain": [
              "{('half', 'a'): 3,\n",
              " ('a', 'league'): 3,\n",
              " ('league', 'half'): 2,\n",
              " ('league', 'onward'): 1,\n",
              " ('onward', 'all'): 1,\n",
              " ('all', 'in'): 1,\n",
              " ('in', 'the'): 1,\n",
              " ('the', 'valley'): 1,\n",
              " ('valley', 'of'): 1,\n",
              " ('of', 'death'): 1,\n",
              " ('death', 'rode'): 1,\n",
              " ('rode', 'the'): 1,\n",
              " ('the', 'six'): 1,\n",
              " ('six', 'hundred'): 1}"
            ]
          },
          "metadata": {},
          "execution_count": 5
        }
      ]
    }
  ]
}